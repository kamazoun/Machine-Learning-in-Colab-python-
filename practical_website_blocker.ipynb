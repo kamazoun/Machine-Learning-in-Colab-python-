{
  "nbformat": 4,
  "nbformat_minor": 0,
  "metadata": {
    "colab": {
      "name": "practical website blocker.ipynb",
      "version": "0.3.2",
      "provenance": [],
      "collapsed_sections": [],
      "include_colab_link": true
    },
    "kernelspec": {
      "name": "python3",
      "display_name": "Python 3"
    }
  },
  "cells": [
    {
      "cell_type": "markdown",
      "metadata": {
        "id": "view-in-github",
        "colab_type": "text"
      },
      "source": [
        "<a href=\"https://colab.research.google.com/github/kamazoun/Machine-Learning-in-Colab-python-/blob/master/practical_website_blocker.ipynb\" target=\"_parent\"><img src=\"https://colab.research.google.com/assets/colab-badge.svg\" alt=\"Open In Colab\"/></a>"
      ]
    },
    {
      "metadata": {
        "id": "oyhFkCt3gxHu",
        "colab_type": "code",
        "colab": {
          "base_uri": "https://localhost:8080/",
          "height": 299
        },
        "outputId": "77a0c8d0-5d7b-4c58-acda-55d42ca86f3f"
      },
      "cell_type": "code",
      "source": [
        "import time\n",
        "from datetime import datetime as dt\n",
        "\n",
        "hosts_path = \"hosts\"  # in real application run on laptop use (with admin privileges): r\"C:\\Windows\\System32\\drivers\\etc\\hosts\"\n",
        "redirect = \"127.0.0.1\"\n",
        "website_list = [\"www.torrent9.uno\", \"torrent9.uno\", \"fr.serie-streaming.ws\", \"https://fr.serie-streaming.ws\"]\n",
        "\n",
        "while True: #blocks websites from 8am to 4pm\n",
        "  if dt(dt.now().year, dt.now().month, dt.now().day, 8) < dt.now() < dt(dt.now().year, dt.now().month, dt.now().day, 16):\n",
        "    print(\"Working hours...\")\n",
        "    with open(hosts_path, \"r+\") as file:\n",
        "      content = file.read()\n",
        "      for website in website_list:\n",
        "        if website in content:\n",
        "          pass\n",
        "        else:\n",
        "          file.write(redirect + \" \" + website + \"\\n\")     \n",
        "  else:\n",
        "    with open(hosts_path, \"r+\") as file:\n",
        "      content = file.readlines()\n",
        "      file.seek(0)\n",
        "      for line in content:\n",
        "        if not any (website in line for website in website_list):\n",
        "          file.write(line)\n",
        "      file.truncate()\n",
        "    print(\"Fun hours...\")\n",
        "  time.sleep(5)"
      ],
      "execution_count": 9,
      "outputs": [
        {
          "output_type": "stream",
          "text": [
            "Working hours...\n",
            "Working hours...\n",
            "Working hours...\n",
            "Working hours...\n",
            "Working hours...\n",
            "Working hours...\n"
          ],
          "name": "stdout"
        },
        {
          "output_type": "error",
          "ename": "KeyboardInterrupt",
          "evalue": "ignored",
          "traceback": [
            "\u001b[0;31m---------------------------------------------------------------------------\u001b[0m",
            "\u001b[0;31mKeyboardInterrupt\u001b[0m                         Traceback (most recent call last)",
            "\u001b[0;32m<ipython-input-9-2b4876064ad0>\u001b[0m in \u001b[0;36m<module>\u001b[0;34m()\u001b[0m\n\u001b[1;32m     25\u001b[0m       \u001b[0mfile\u001b[0m\u001b[0;34m.\u001b[0m\u001b[0mtruncate\u001b[0m\u001b[0;34m(\u001b[0m\u001b[0;34m)\u001b[0m\u001b[0;34m\u001b[0m\u001b[0;34m\u001b[0m\u001b[0m\n\u001b[1;32m     26\u001b[0m     \u001b[0mprint\u001b[0m\u001b[0;34m(\u001b[0m\u001b[0;34m\"Fun hours...\"\u001b[0m\u001b[0;34m)\u001b[0m\u001b[0;34m\u001b[0m\u001b[0;34m\u001b[0m\u001b[0m\n\u001b[0;32m---> 27\u001b[0;31m   \u001b[0mtime\u001b[0m\u001b[0;34m.\u001b[0m\u001b[0msleep\u001b[0m\u001b[0;34m(\u001b[0m\u001b[0;36m5\u001b[0m\u001b[0;34m)\u001b[0m\u001b[0;34m\u001b[0m\u001b[0;34m\u001b[0m\u001b[0m\n\u001b[0m",
            "\u001b[0;31mKeyboardInterrupt\u001b[0m: "
          ]
        }
      ]
    }
  ]
}